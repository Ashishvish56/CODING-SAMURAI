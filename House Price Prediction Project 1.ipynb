{
 "cells": [
  {
   "cell_type": "markdown",
   "id": "8a09c23d",
   "metadata": {},
   "source": [
    "# HOUSE PRICE PREDICTION"
   ]
  },
  {
   "cell_type": "code",
   "execution_count": 12,
   "id": "13a4e2e5",
   "metadata": {},
   "outputs": [],
   "source": [
    "import numpy as np\n",
    "import pandas as pd\n",
    "import matplotlib.pyplot as plt\n",
    "import seaborn as sns\n",
    "import plotly.express as px\n",
    "from sklearn.preprocessing import StandardScaler, LabelEncoder\n",
    "from sklearn.model_selection import train_test_split\n",
    "from sklearn.metrics import mean_squared_error,r2_score\n",
    "from sklearn.ensemble import RandomForestRegressor\n",
    "from sklearn import tree\n",
    "from sklearn.model_selection import GridSearchCV, RandomizedSearchCV\n",
    "\n",
    "import re\n",
    "\n",
    "import warnings\n",
    "warnings.filterwarnings('ignore')\n",
    "\n",
    "\n"
   ]
  },
  {
   "cell_type": "code",
   "execution_count": 14,
   "id": "7436646b",
   "metadata": {},
   "outputs": [
    {
     "data": {
      "text/html": [
       "<div>\n",
       "<style scoped>\n",
       "    .dataframe tbody tr th:only-of-type {\n",
       "        vertical-align: middle;\n",
       "    }\n",
       "\n",
       "    .dataframe tbody tr th {\n",
       "        vertical-align: top;\n",
       "    }\n",
       "\n",
       "    .dataframe thead th {\n",
       "        text-align: right;\n",
       "    }\n",
       "</style>\n",
       "<table border=\"1\" class=\"dataframe\">\n",
       "  <thead>\n",
       "    <tr style=\"text-align: right;\">\n",
       "      <th></th>\n",
       "      <th>Unnamed: 0</th>\n",
       "      <th>Address</th>\n",
       "      <th>Zip</th>\n",
       "      <th>Price</th>\n",
       "      <th>Area</th>\n",
       "      <th>Room</th>\n",
       "      <th>Lon</th>\n",
       "      <th>Lat</th>\n",
       "    </tr>\n",
       "  </thead>\n",
       "  <tbody>\n",
       "    <tr>\n",
       "      <th>0</th>\n",
       "      <td>1</td>\n",
       "      <td>Blasiusstraat 8 2, Amsterdam</td>\n",
       "      <td>1091 CR</td>\n",
       "      <td>685000.0</td>\n",
       "      <td>64</td>\n",
       "      <td>3</td>\n",
       "      <td>4.907736</td>\n",
       "      <td>52.356157</td>\n",
       "    </tr>\n",
       "    <tr>\n",
       "      <th>1</th>\n",
       "      <td>2</td>\n",
       "      <td>Kromme Leimuidenstraat 13 H, Amsterdam</td>\n",
       "      <td>1059 EL</td>\n",
       "      <td>475000.0</td>\n",
       "      <td>60</td>\n",
       "      <td>3</td>\n",
       "      <td>4.850476</td>\n",
       "      <td>52.348586</td>\n",
       "    </tr>\n",
       "    <tr>\n",
       "      <th>2</th>\n",
       "      <td>3</td>\n",
       "      <td>Zaaiersweg 11 A, Amsterdam</td>\n",
       "      <td>1097 SM</td>\n",
       "      <td>850000.0</td>\n",
       "      <td>109</td>\n",
       "      <td>4</td>\n",
       "      <td>4.944774</td>\n",
       "      <td>52.343782</td>\n",
       "    </tr>\n",
       "    <tr>\n",
       "      <th>3</th>\n",
       "      <td>4</td>\n",
       "      <td>Tenerifestraat 40, Amsterdam</td>\n",
       "      <td>1060 TH</td>\n",
       "      <td>580000.0</td>\n",
       "      <td>128</td>\n",
       "      <td>6</td>\n",
       "      <td>4.789928</td>\n",
       "      <td>52.343712</td>\n",
       "    </tr>\n",
       "    <tr>\n",
       "      <th>4</th>\n",
       "      <td>5</td>\n",
       "      <td>Winterjanpad 21, Amsterdam</td>\n",
       "      <td>1036 KN</td>\n",
       "      <td>720000.0</td>\n",
       "      <td>138</td>\n",
       "      <td>5</td>\n",
       "      <td>4.902503</td>\n",
       "      <td>52.410538</td>\n",
       "    </tr>\n",
       "    <tr>\n",
       "      <th>...</th>\n",
       "      <td>...</td>\n",
       "      <td>...</td>\n",
       "      <td>...</td>\n",
       "      <td>...</td>\n",
       "      <td>...</td>\n",
       "      <td>...</td>\n",
       "      <td>...</td>\n",
       "      <td>...</td>\n",
       "    </tr>\n",
       "    <tr>\n",
       "      <th>919</th>\n",
       "      <td>920</td>\n",
       "      <td>Ringdijk, Amsterdam</td>\n",
       "      <td>1097 AE</td>\n",
       "      <td>750000.0</td>\n",
       "      <td>117</td>\n",
       "      <td>1</td>\n",
       "      <td>4.927757</td>\n",
       "      <td>52.354173</td>\n",
       "    </tr>\n",
       "    <tr>\n",
       "      <th>920</th>\n",
       "      <td>921</td>\n",
       "      <td>Kleine Beerstraat 31, Amsterdam</td>\n",
       "      <td>1033 CP</td>\n",
       "      <td>350000.0</td>\n",
       "      <td>72</td>\n",
       "      <td>3</td>\n",
       "      <td>4.890612</td>\n",
       "      <td>52.414587</td>\n",
       "    </tr>\n",
       "    <tr>\n",
       "      <th>921</th>\n",
       "      <td>922</td>\n",
       "      <td>Stuyvesantstraat 33 II, Amsterdam</td>\n",
       "      <td>1058 AK</td>\n",
       "      <td>350000.0</td>\n",
       "      <td>51</td>\n",
       "      <td>3</td>\n",
       "      <td>4.856935</td>\n",
       "      <td>52.363256</td>\n",
       "    </tr>\n",
       "    <tr>\n",
       "      <th>922</th>\n",
       "      <td>923</td>\n",
       "      <td>John Blankensteinstraat 51, Amsterdam</td>\n",
       "      <td>1095 MB</td>\n",
       "      <td>599000.0</td>\n",
       "      <td>113</td>\n",
       "      <td>4</td>\n",
       "      <td>4.965731</td>\n",
       "      <td>52.375268</td>\n",
       "    </tr>\n",
       "    <tr>\n",
       "      <th>923</th>\n",
       "      <td>924</td>\n",
       "      <td>S. F. van Ossstraat 334, Amsterdam</td>\n",
       "      <td>1068 JS</td>\n",
       "      <td>300000.0</td>\n",
       "      <td>79</td>\n",
       "      <td>4</td>\n",
       "      <td>4.810678</td>\n",
       "      <td>52.355493</td>\n",
       "    </tr>\n",
       "  </tbody>\n",
       "</table>\n",
       "<p>924 rows × 8 columns</p>\n",
       "</div>"
      ],
      "text/plain": [
       "     Unnamed: 0                                 Address      Zip     Price  \\\n",
       "0             1            Blasiusstraat 8 2, Amsterdam  1091 CR  685000.0   \n",
       "1             2  Kromme Leimuidenstraat 13 H, Amsterdam  1059 EL  475000.0   \n",
       "2             3              Zaaiersweg 11 A, Amsterdam  1097 SM  850000.0   \n",
       "3             4            Tenerifestraat 40, Amsterdam  1060 TH  580000.0   \n",
       "4             5              Winterjanpad 21, Amsterdam  1036 KN  720000.0   \n",
       "..          ...                                     ...      ...       ...   \n",
       "919         920                     Ringdijk, Amsterdam  1097 AE  750000.0   \n",
       "920         921         Kleine Beerstraat 31, Amsterdam  1033 CP  350000.0   \n",
       "921         922       Stuyvesantstraat 33 II, Amsterdam  1058 AK  350000.0   \n",
       "922         923   John Blankensteinstraat 51, Amsterdam  1095 MB  599000.0   \n",
       "923         924      S. F. van Ossstraat 334, Amsterdam  1068 JS  300000.0   \n",
       "\n",
       "     Area  Room       Lon        Lat  \n",
       "0      64     3  4.907736  52.356157  \n",
       "1      60     3  4.850476  52.348586  \n",
       "2     109     4  4.944774  52.343782  \n",
       "3     128     6  4.789928  52.343712  \n",
       "4     138     5  4.902503  52.410538  \n",
       "..    ...   ...       ...        ...  \n",
       "919   117     1  4.927757  52.354173  \n",
       "920    72     3  4.890612  52.414587  \n",
       "921    51     3  4.856935  52.363256  \n",
       "922   113     4  4.965731  52.375268  \n",
       "923    79     4  4.810678  52.355493  \n",
       "\n",
       "[924 rows x 8 columns]"
      ]
     },
     "execution_count": 14,
     "metadata": {},
     "output_type": "execute_result"
    }
   ],
   "source": [
    "df = pd.read_csv(r\"C:\\Users\\91859\\Downloads\\HousingPrices-Amsterdam-August-2021.csv\")\n",
    "df"
   ]
  },
  {
   "cell_type": "code",
   "execution_count": 15,
   "id": "d2d10fd1",
   "metadata": {},
   "outputs": [
    {
     "name": "stdout",
     "output_type": "stream",
     "text": [
      "<class 'pandas.core.frame.DataFrame'>\n",
      "RangeIndex: 924 entries, 0 to 923\n",
      "Data columns (total 8 columns):\n",
      " #   Column      Non-Null Count  Dtype  \n",
      "---  ------      --------------  -----  \n",
      " 0   Unnamed: 0  924 non-null    int64  \n",
      " 1   Address     924 non-null    object \n",
      " 2   Zip         924 non-null    object \n",
      " 3   Price       920 non-null    float64\n",
      " 4   Area        924 non-null    int64  \n",
      " 5   Room        924 non-null    int64  \n",
      " 6   Lon         924 non-null    float64\n",
      " 7   Lat         924 non-null    float64\n",
      "dtypes: float64(3), int64(3), object(2)\n",
      "memory usage: 57.9+ KB\n"
     ]
    }
   ],
   "source": [
    "df.info()"
   ]
  },
  {
   "cell_type": "code",
   "execution_count": 12,
   "id": "b18cb0f4",
   "metadata": {},
   "outputs": [
    {
     "data": {
      "text/html": [
       "<div>\n",
       "<style scoped>\n",
       "    .dataframe tbody tr th:only-of-type {\n",
       "        vertical-align: middle;\n",
       "    }\n",
       "\n",
       "    .dataframe tbody tr th {\n",
       "        vertical-align: top;\n",
       "    }\n",
       "\n",
       "    .dataframe thead th {\n",
       "        text-align: right;\n",
       "    }\n",
       "</style>\n",
       "<table border=\"1\" class=\"dataframe\">\n",
       "  <thead>\n",
       "    <tr style=\"text-align: right;\">\n",
       "      <th></th>\n",
       "      <th>Unnamed: 0</th>\n",
       "      <th>Price</th>\n",
       "      <th>Area</th>\n",
       "      <th>Room</th>\n",
       "      <th>Lon</th>\n",
       "      <th>Lat</th>\n",
       "    </tr>\n",
       "  </thead>\n",
       "  <tbody>\n",
       "    <tr>\n",
       "      <th>count</th>\n",
       "      <td>924.000000</td>\n",
       "      <td>9.200000e+02</td>\n",
       "      <td>924.000000</td>\n",
       "      <td>924.000000</td>\n",
       "      <td>924.000000</td>\n",
       "      <td>924.000000</td>\n",
       "    </tr>\n",
       "    <tr>\n",
       "      <th>mean</th>\n",
       "      <td>462.500000</td>\n",
       "      <td>6.220654e+05</td>\n",
       "      <td>95.952381</td>\n",
       "      <td>3.571429</td>\n",
       "      <td>4.888605</td>\n",
       "      <td>52.363326</td>\n",
       "    </tr>\n",
       "    <tr>\n",
       "      <th>std</th>\n",
       "      <td>266.880123</td>\n",
       "      <td>5.389942e+05</td>\n",
       "      <td>57.447436</td>\n",
       "      <td>1.592332</td>\n",
       "      <td>0.053140</td>\n",
       "      <td>0.024028</td>\n",
       "    </tr>\n",
       "    <tr>\n",
       "      <th>min</th>\n",
       "      <td>1.000000</td>\n",
       "      <td>1.750000e+05</td>\n",
       "      <td>21.000000</td>\n",
       "      <td>1.000000</td>\n",
       "      <td>4.644819</td>\n",
       "      <td>52.291519</td>\n",
       "    </tr>\n",
       "    <tr>\n",
       "      <th>25%</th>\n",
       "      <td>231.750000</td>\n",
       "      <td>3.500000e+05</td>\n",
       "      <td>60.750000</td>\n",
       "      <td>3.000000</td>\n",
       "      <td>4.855834</td>\n",
       "      <td>52.352077</td>\n",
       "    </tr>\n",
       "    <tr>\n",
       "      <th>50%</th>\n",
       "      <td>462.500000</td>\n",
       "      <td>4.670000e+05</td>\n",
       "      <td>83.000000</td>\n",
       "      <td>3.000000</td>\n",
       "      <td>4.886818</td>\n",
       "      <td>52.364631</td>\n",
       "    </tr>\n",
       "    <tr>\n",
       "      <th>75%</th>\n",
       "      <td>693.250000</td>\n",
       "      <td>7.000000e+05</td>\n",
       "      <td>113.000000</td>\n",
       "      <td>4.000000</td>\n",
       "      <td>4.922337</td>\n",
       "      <td>52.377598</td>\n",
       "    </tr>\n",
       "    <tr>\n",
       "      <th>max</th>\n",
       "      <td>924.000000</td>\n",
       "      <td>5.950000e+06</td>\n",
       "      <td>623.000000</td>\n",
       "      <td>14.000000</td>\n",
       "      <td>5.029122</td>\n",
       "      <td>52.423805</td>\n",
       "    </tr>\n",
       "  </tbody>\n",
       "</table>\n",
       "</div>"
      ],
      "text/plain": [
       "       Unnamed: 0         Price        Area        Room         Lon  \\\n",
       "count  924.000000  9.200000e+02  924.000000  924.000000  924.000000   \n",
       "mean   462.500000  6.220654e+05   95.952381    3.571429    4.888605   \n",
       "std    266.880123  5.389942e+05   57.447436    1.592332    0.053140   \n",
       "min      1.000000  1.750000e+05   21.000000    1.000000    4.644819   \n",
       "25%    231.750000  3.500000e+05   60.750000    3.000000    4.855834   \n",
       "50%    462.500000  4.670000e+05   83.000000    3.000000    4.886818   \n",
       "75%    693.250000  7.000000e+05  113.000000    4.000000    4.922337   \n",
       "max    924.000000  5.950000e+06  623.000000   14.000000    5.029122   \n",
       "\n",
       "              Lat  \n",
       "count  924.000000  \n",
       "mean    52.363326  \n",
       "std      0.024028  \n",
       "min     52.291519  \n",
       "25%     52.352077  \n",
       "50%     52.364631  \n",
       "75%     52.377598  \n",
       "max     52.423805  "
      ]
     },
     "execution_count": 12,
     "metadata": {},
     "output_type": "execute_result"
    }
   ],
   "source": [
    "df.describe()"
   ]
  },
  {
   "cell_type": "code",
   "execution_count": 13,
   "id": "3cdcbad9",
   "metadata": {},
   "outputs": [
    {
     "data": {
      "text/plain": [
       "(924, 8)"
      ]
     },
     "execution_count": 13,
     "metadata": {},
     "output_type": "execute_result"
    }
   ],
   "source": [
    "df.shape"
   ]
  },
  {
   "cell_type": "code",
   "execution_count": 16,
   "id": "8f489380",
   "metadata": {},
   "outputs": [
    {
     "data": {
      "text/plain": [
       "Unnamed: 0    0\n",
       "Address       0\n",
       "Zip           0\n",
       "Price         4\n",
       "Area          0\n",
       "Room          0\n",
       "Lon           0\n",
       "Lat           0\n",
       "dtype: int64"
      ]
     },
     "execution_count": 16,
     "metadata": {},
     "output_type": "execute_result"
    }
   ],
   "source": [
    "# counts null values in each column of dataset\n",
    "df.isnull().sum()\n"
   ]
  },
  {
   "cell_type": "code",
   "execution_count": 15,
   "id": "48543f59",
   "metadata": {},
   "outputs": [
    {
     "data": {
      "text/plain": [
       "0"
      ]
     },
     "execution_count": 15,
     "metadata": {},
     "output_type": "execute_result"
    }
   ],
   "source": [
    "#Duplicate Row in a Dataframe\n",
    "df.duplicated().sum()"
   ]
  },
  {
   "cell_type": "code",
   "execution_count": 17,
   "id": "c7b91fad",
   "metadata": {},
   "outputs": [],
   "source": [
    "#Removing rows which contain missing values \n",
    "df.dropna(inplace=True)"
   ]
  },
  {
   "cell_type": "code",
   "execution_count": 18,
   "id": "9e476079",
   "metadata": {},
   "outputs": [],
   "source": [
    "# Delete unneeded columns\n",
    "df.drop(columns=['Address', 'Zip'], axis=1, inplace=True)"
   ]
  },
  {
   "cell_type": "code",
   "execution_count": 19,
   "id": "822d6ddb",
   "metadata": {},
   "outputs": [],
   "source": [
    "# list each of Categorical and Numerical columns\n",
    "numerical_columns = df.select_dtypes(exclude=object).columns.tolist()"
   ]
  },
  {
   "cell_type": "code",
   "execution_count": 20,
   "id": "76a4591a",
   "metadata": {},
   "outputs": [],
   "source": [
    "# Dealing with outliers\n",
    "for col in numerical_columns:\n",
    "    upper_limit = df[col].mean() + 3 * df[col].std()\n",
    "    lower_limit = df[col].mean() - 3 * df[col].std()\n",
    "    df = df[(df[col] <= upper_limit) & (df[col] >= lower_limit)]"
   ]
  },
  {
   "cell_type": "markdown",
   "id": "5e8d140e",
   "metadata": {},
   "source": [
    "# Exploratory Data Analysis (EDA) "
   ]
  },
  {
   "cell_type": "code",
   "execution_count": 21,
   "id": "194e6b5f",
   "metadata": {},
   "outputs": [
    {
     "data": {
      "text/html": [
       "<div>\n",
       "<style scoped>\n",
       "    .dataframe tbody tr th:only-of-type {\n",
       "        vertical-align: middle;\n",
       "    }\n",
       "\n",
       "    .dataframe tbody tr th {\n",
       "        vertical-align: top;\n",
       "    }\n",
       "\n",
       "    .dataframe thead th {\n",
       "        text-align: right;\n",
       "    }\n",
       "</style>\n",
       "<table border=\"1\" class=\"dataframe\">\n",
       "  <thead>\n",
       "    <tr style=\"text-align: right;\">\n",
       "      <th></th>\n",
       "      <th>Unnamed: 0</th>\n",
       "      <th>Price</th>\n",
       "      <th>Area</th>\n",
       "      <th>Room</th>\n",
       "      <th>Lon</th>\n",
       "      <th>Lat</th>\n",
       "    </tr>\n",
       "  </thead>\n",
       "  <tbody>\n",
       "    <tr>\n",
       "      <th>0</th>\n",
       "      <td>1</td>\n",
       "      <td>685000.0</td>\n",
       "      <td>64</td>\n",
       "      <td>3</td>\n",
       "      <td>4.907736</td>\n",
       "      <td>52.356157</td>\n",
       "    </tr>\n",
       "    <tr>\n",
       "      <th>1</th>\n",
       "      <td>2</td>\n",
       "      <td>475000.0</td>\n",
       "      <td>60</td>\n",
       "      <td>3</td>\n",
       "      <td>4.850476</td>\n",
       "      <td>52.348586</td>\n",
       "    </tr>\n",
       "    <tr>\n",
       "      <th>2</th>\n",
       "      <td>3</td>\n",
       "      <td>850000.0</td>\n",
       "      <td>109</td>\n",
       "      <td>4</td>\n",
       "      <td>4.944774</td>\n",
       "      <td>52.343782</td>\n",
       "    </tr>\n",
       "    <tr>\n",
       "      <th>3</th>\n",
       "      <td>4</td>\n",
       "      <td>580000.0</td>\n",
       "      <td>128</td>\n",
       "      <td>6</td>\n",
       "      <td>4.789928</td>\n",
       "      <td>52.343712</td>\n",
       "    </tr>\n",
       "    <tr>\n",
       "      <th>4</th>\n",
       "      <td>5</td>\n",
       "      <td>720000.0</td>\n",
       "      <td>138</td>\n",
       "      <td>5</td>\n",
       "      <td>4.902503</td>\n",
       "      <td>52.410538</td>\n",
       "    </tr>\n",
       "    <tr>\n",
       "      <th>...</th>\n",
       "      <td>...</td>\n",
       "      <td>...</td>\n",
       "      <td>...</td>\n",
       "      <td>...</td>\n",
       "      <td>...</td>\n",
       "      <td>...</td>\n",
       "    </tr>\n",
       "    <tr>\n",
       "      <th>919</th>\n",
       "      <td>920</td>\n",
       "      <td>750000.0</td>\n",
       "      <td>117</td>\n",
       "      <td>1</td>\n",
       "      <td>4.927757</td>\n",
       "      <td>52.354173</td>\n",
       "    </tr>\n",
       "    <tr>\n",
       "      <th>920</th>\n",
       "      <td>921</td>\n",
       "      <td>350000.0</td>\n",
       "      <td>72</td>\n",
       "      <td>3</td>\n",
       "      <td>4.890612</td>\n",
       "      <td>52.414587</td>\n",
       "    </tr>\n",
       "    <tr>\n",
       "      <th>921</th>\n",
       "      <td>922</td>\n",
       "      <td>350000.0</td>\n",
       "      <td>51</td>\n",
       "      <td>3</td>\n",
       "      <td>4.856935</td>\n",
       "      <td>52.363256</td>\n",
       "    </tr>\n",
       "    <tr>\n",
       "      <th>922</th>\n",
       "      <td>923</td>\n",
       "      <td>599000.0</td>\n",
       "      <td>113</td>\n",
       "      <td>4</td>\n",
       "      <td>4.965731</td>\n",
       "      <td>52.375268</td>\n",
       "    </tr>\n",
       "    <tr>\n",
       "      <th>923</th>\n",
       "      <td>924</td>\n",
       "      <td>300000.0</td>\n",
       "      <td>79</td>\n",
       "      <td>4</td>\n",
       "      <td>4.810678</td>\n",
       "      <td>52.355493</td>\n",
       "    </tr>\n",
       "  </tbody>\n",
       "</table>\n",
       "<p>879 rows × 6 columns</p>\n",
       "</div>"
      ],
      "text/plain": [
       "     Unnamed: 0     Price  Area  Room       Lon        Lat\n",
       "0             1  685000.0    64     3  4.907736  52.356157\n",
       "1             2  475000.0    60     3  4.850476  52.348586\n",
       "2             3  850000.0   109     4  4.944774  52.343782\n",
       "3             4  580000.0   128     6  4.789928  52.343712\n",
       "4             5  720000.0   138     5  4.902503  52.410538\n",
       "..          ...       ...   ...   ...       ...        ...\n",
       "919         920  750000.0   117     1  4.927757  52.354173\n",
       "920         921  350000.0    72     3  4.890612  52.414587\n",
       "921         922  350000.0    51     3  4.856935  52.363256\n",
       "922         923  599000.0   113     4  4.965731  52.375268\n",
       "923         924  300000.0    79     4  4.810678  52.355493\n",
       "\n",
       "[879 rows x 6 columns]"
      ]
     },
     "execution_count": 21,
     "metadata": {},
     "output_type": "execute_result"
    }
   ],
   "source": [
    "df"
   ]
  },
  {
   "cell_type": "code",
   "execution_count": 29,
   "id": "e2595578",
   "metadata": {},
   "outputs": [],
   "source": [
    "# Define a function to visualize the numerical columns\n",
    "def num_cols_vis(col):\n",
    "    plt.figure(figsize=(8, 4))\n",
    "    sns.histplot(data=df, x=col, kde=True)\n",
    "    plt.title(f'{col} Distribution')\n",
    "    plt.show()"
   ]
  },
  {
   "cell_type": "code",
   "execution_count": 30,
   "id": "4219bb81",
   "metadata": {},
   "outputs": [
    {
     "data": {
      "image/png": "[encoded data removed]",
      "text/plain": [
       "<Figure size 576x288 with 1 Axes>"
      ]
     },
     "metadata": {
      "needs_background": "light"
     },
     "output_type": "display_data"
    },
    {
     "data": {
      "image/png": "[encoded data removed]",
      "text/plain": [
       "<Figure size 576x288 with 1 Axes>"
      ]
     },
     "metadata": {
      "needs_background": "light"
     },
     "output_type": "display_data"
    },
    {
     "data": {
      "image/png": "[encoded data removed]",
      "text/plain": [
       "<Figure size 576x288 with 1 Axes>"
      ]
     },
     "metadata": {
      "needs_background": "light"
     },
     "output_type": "display_data"
    },
    {
     "data": {
      "image/png": "[encoded data removed]",
      "text/plain": [
       "<Figure size 576x288 with 1 Axes>"
      ]
     },
     "metadata": {
      "needs_background": "light"
     },
     "output_type": "display_data"
    },
    {
     "data": {
      "image/png": "[encoded data removed]",
      "text/plain": [
       "<Figure size 576x288 with 1 Axes>"
      ]
     },
     "metadata": {
      "needs_background": "light"
     },
     "output_type": "display_data"
    },
    {
     "data": {
      "image/png": "[encoded data removed]",
      "text/plain": [
       "<Figure size 576x288 with 1 Axes>"
      ]
     },
     "metadata": {
      "needs_background": "light"
     },
     "output_type": "display_data"
    }
   ],
   "source": [
    "# Call the previous function\n",
    "for col in numerical_columns:\n",
    "    num_cols_vis(col)"
   ]
  },
  {
   "cell_type": "code",
   "execution_count": 32,
   "id": "39773bb4",
   "metadata": {},
   "outputs": [
    {
     "data": {
      "image/png": "[encoded data removed]",
      "text/plain": [
       "<Figure size 1152x720 with 2 Axes>"
      ]
     },
     "metadata": {
      "needs_background": "light"
     },
     "output_type": "display_data"
    }
   ],
   "source": [
    "# Display the correlation matrix to find the relationship between each column and the target column\n",
    "correlation_matrix = df[numerical_columns].corr()\n",
    "plt.figure(figsize=(16, 10))\n",
    "sns.heatmap(correlation_matrix, annot=True, cmap='Reds')\n",
    "plt.title(\"Correlation Heatmap\")\n",
    "plt.show()"
   ]
  },
  {
   "cell_type": "markdown",
   "id": "d1b346e3",
   "metadata": {},
   "source": [
    "# SPLITING THE DATA"
   ]
  },
  {
   "cell_type": "code",
   "execution_count": 38,
   "id": "38498173",
   "metadata": {},
   "outputs": [
    {
     "name": "stdout",
     "output_type": "stream",
     "text": [
      "     Unnamed: 0  Area  Room       Lon        Lat\n",
      "0             1    64     3  4.907736  52.356157\n",
      "1             2    60     3  4.850476  52.348586\n",
      "2             3   109     4  4.944774  52.343782\n",
      "3             4   128     6  4.789928  52.343712\n",
      "4             5   138     5  4.902503  52.410538\n",
      "..          ...   ...   ...       ...        ...\n",
      "919         920   117     1  4.927757  52.354173\n",
      "920         921    72     3  4.890612  52.414587\n",
      "921         922    51     3  4.856935  52.363256\n",
      "922         923   113     4  4.965731  52.375268\n",
      "923         924    79     4  4.810678  52.355493\n",
      "\n",
      "[920 rows x 5 columns]\n",
      "0      685000.0\n",
      "1      475000.0\n",
      "2      850000.0\n",
      "3      580000.0\n",
      "4      720000.0\n",
      "         ...   \n",
      "919    750000.0\n",
      "920    350000.0\n",
      "921    350000.0\n",
      "922    599000.0\n",
      "923    300000.0\n",
      "Name: Price, Length: 920, dtype: float64\n"
     ]
    }
   ],
   "source": [
    "X = df.drop(['Price'], axis=1) \n",
    "y = df['Price']\n",
    "print(X)\n",
    "print(y)\n"
   ]
  },
  {
   "cell_type": "code",
   "execution_count": 39,
   "id": "b55ff055",
   "metadata": {},
   "outputs": [],
   "source": [
    "# Split the data into training and testing sets\n",
    "X_train, X_test, y_train, y_test = train_test_split(X, y, test_size=0.2, random_state=42)"
   ]
  },
  {
   "cell_type": "markdown",
   "id": "c729e58a",
   "metadata": {},
   "source": [
    "# Building Models"
   ]
  },
  {
   "cell_type": "code",
   "execution_count": 40,
   "id": "4a071775",
   "metadata": {},
   "outputs": [
    {
     "data": {
      "text/plain": [
       "RandomForestRegressor(random_state=42)"
      ]
     },
     "execution_count": 40,
     "metadata": {},
     "output_type": "execute_result"
    }
   ],
   "source": [
    "# Define and Train Models\n",
    "# Random Forest\n",
    "rf = RandomForestRegressor(random_state=42)\n",
    "rf.fit(X_train, y_train)"
   ]
  },
  {
   "cell_type": "code",
   "execution_count": 44,
   "id": "2af49fab",
   "metadata": {},
   "outputs": [],
   "source": [
    "from xgboost import XGBRegressor"
   ]
  },
  {
   "cell_type": "markdown",
   "id": "ce6d8bcf",
   "metadata": {},
   "source": [
    "# Importing XGBOOST LIBRARIES"
   ]
  },
  {
   "cell_type": "code",
   "execution_count": 45,
   "id": "373db69f",
   "metadata": {},
   "outputs": [
    {
     "data": {
      "text/plain": [
       "XGBRegressor(base_score=None, booster=None, callbacks=None,\n",
       "             colsample_bylevel=None, colsample_bynode=None,\n",
       "             colsample_bytree=None, device=None, early_stopping_rounds=None,\n",
       "             enable_categorical=False, eval_metric=None, feature_types=None,\n",
       "             gamma=None, grow_policy=None, importance_type=None,\n",
       "             interaction_constraints=None, learning_rate=None, max_bin=None,\n",
       "             max_cat_threshold=None, max_cat_to_onehot=None,\n",
       "             max_delta_step=None, max_depth=None, max_leaves=None,\n",
       "             min_child_weight=None, missing=nan, monotone_constraints=None,\n",
       "             multi_strategy=None, n_estimators=None, n_jobs=None,\n",
       "             num_parallel_tree=None, random_state=42, ...)"
      ]
     },
     "execution_count": 45,
     "metadata": {},
     "output_type": "execute_result"
    }
   ],
   "source": [
    "# XGBoost\n",
    "xgb = XGBRegressor(random_state=42)\n",
    "xgb.fit(X_train, y_train)                                       "
   ]
  },
  {
   "cell_type": "markdown",
   "id": "c893d7ab",
   "metadata": {},
   "source": [
    "# MODEL ACCURACY"
   ]
  },
  {
   "cell_type": "code",
   "execution_count": 46,
   "id": "7d42171c",
   "metadata": {},
   "outputs": [
    {
     "data": {
      "text/plain": [
       "0.8378585447425219"
      ]
     },
     "execution_count": 46,
     "metadata": {},
     "output_type": "execute_result"
    }
   ],
   "source": [
    "rf.score(X_test, y_test)"
   ]
  },
  {
   "cell_type": "code",
   "execution_count": 47,
   "id": "1e6b223a",
   "metadata": {},
   "outputs": [
    {
     "data": {
      "text/plain": [
       "0.8156860652377789"
      ]
     },
     "execution_count": 47,
     "metadata": {},
     "output_type": "execute_result"
    }
   ],
   "source": [
    "xgb.score(X_test, y_test)"
   ]
  },
  {
   "cell_type": "code",
   "execution_count": null,
   "id": "476f317e",
   "metadata": {},
   "outputs": [],
   "source": [
    "#Model Tuning"
   ]
  },
  {
   "cell_type": "code",
   "execution_count": 48,
   "id": "52b40faf",
   "metadata": {},
   "outputs": [
    {
     "name": "stdout",
     "output_type": "stream",
     "text": [
      "Fitting 3 folds for each of 36 candidates, totalling 108 fits\n",
      "Best parameters for Random Forest: {'max_depth': None, 'min_samples_split': 10, 'n_estimators': 200}\n",
      "Best score for Random Forest: 266222.10956968635\n"
     ]
    }
   ],
   "source": [
    "rf_params = {\n",
    "     'n_estimators': [100, 200, 300],\n",
    "    'max_depth': [None, 10, 20, 30],\n",
    "    'min_samples_split': [2, 5, 10]\n",
    "}\n",
    "\n",
    "# GridSearchCV\n",
    "rf_grid = GridSearchCV(estimator=RandomForestRegressor(random_state=42),\n",
    "                       param_grid=rf_params,\n",
    "                       cv=3,\n",
    "                       scoring='neg_mean_squared_error',\n",
    "                       verbose=1)\n",
    "\n",
    "rf_grid.fit(X_train, y_train)\n",
    "print(\"Best parameters for Random Forest:\", rf_grid.best_params_)\n",
    "print(\"Best score for Random Forest:\", np.sqrt(-rf_grid.best_score_))"
   ]
  },
  {
   "cell_type": "code",
   "execution_count": 49,
   "id": "bb2535d3",
   "metadata": {},
   "outputs": [
    {
     "name": "stdout",
     "output_type": "stream",
     "text": [
      "Fitting 3 folds for each of 81 candidates, totalling 243 fits\n",
      "Best parameters for XGBoost: {'learning_rate': 0.1, 'max_depth': 3, 'n_estimators': 100, 'subsample': 0.7}\n",
      "Best score for XGBoost: 262948.1765372926\n"
     ]
    }
   ],
   "source": [
    "# XGBoost Hyperparameter Tuning\n",
    "# Grid of parameters to tune\n",
    "xgb_params = {\n",
    "    'n_estimators': [100, 200, 300],\n",
    "    'max_depth': [3, 5, 7],\n",
    "    'learning_rate': [0.01, 0.1, 0.2],\n",
    "    'subsample': [0.7, 0.8, 0.9]\n",
    "}\n",
    "\n",
    "# GridSearchCV\n",
    "xgb_grid = GridSearchCV(estimator=XGBRegressor(random_state=42),\n",
    "                        param_grid=xgb_params,\n",
    "                        cv=3,\n",
    "                        scoring='neg_mean_squared_error',\n",
    "                        verbose=1)\n",
    "\n",
    "xgb_grid.fit(X_train, y_train)\n",
    "print(\"Best parameters for XGBoost:\", xgb_grid.best_params_)\n",
    "print(\"Best score for XGBoost:\", np.sqrt(-xgb_grid.best_score_))"
   ]
  },
  {
   "cell_type": "code",
   "execution_count": null,
   "id": "02512e14",
   "metadata": {},
   "outputs": [],
   "source": []
  },
  {
   "cell_type": "code",
   "execution_count": null,
   "id": "a510218a",
   "metadata": {},
   "outputs": [],
   "source": []
  },
  {
   "cell_type": "code",
   "execution_count": null,
   "id": "9712e747",
   "metadata": {},
   "outputs": [],
   "source": []
  },
  {
   "cell_type": "code",
   "execution_count": null,
   "id": "3b184dca",
   "metadata": {},
   "outputs": [],
   "source": []
  },
  {
   "cell_type": "code",
   "execution_count": null,
   "id": "bd0f5d3c",
   "metadata": {},
   "outputs": [],
   "source": []
  },
  {
   "cell_type": "code",
   "execution_count": 43,
   "id": "4f88c772",
   "metadata": {},
   "outputs": [
    {
     "name": "stdout",
     "output_type": "stream",
     "text": [
      "Defaulting to user installation because normal site-packages is not writeable\n",
      "Collecting xgboost\n",
      "  Using cached xgboost-2.1.0-py3-none-win_amd64.whl (124.9 MB)\n",
      "Requirement already satisfied: numpy in c:\\programdata\\anaconda3\\lib\\site-packages (from xgboost) (1.21.5)\n",
      "Requirement already satisfied: scipy in c:\\programdata\\anaconda3\\lib\\site-packages (from xgboost) (1.7.3)\n",
      "Installing collected packages: xgboost\n",
      "Successfully installed xgboost-2.1.0\n",
      "Note: you may need to restart the kernel to use updated packages.\n"
     ]
    }
   ],
   "source": [
    "pip install xgboost"
   ]
  }
 ],
 "metadata": {
  "kernelspec": {
   "display_name": "Python 3 (ipykernel)",
   "language": "python",
   "name": "python3"
  },
  "language_info": {
   "codemirror_mode": {
    "name": "ipython",
    "version": 3
   },
   "file_extension": ".py",
   "mimetype": "text/x-python",
   "name": "python",
   "nbconvert_exporter": "python",
   "pygments_lexer": "ipython3",
   "version": "3.9.12"
  }
 },
 "nbformat": 4,
 "nbformat_minor": 5
}
